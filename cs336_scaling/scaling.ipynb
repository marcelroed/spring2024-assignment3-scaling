{
 "cells": [
  {
   "cell_type": "code",
   "execution_count": 1,
   "metadata": {},
   "outputs": [],
   "source": [
    "%load_ext autoreload\n",
    "%autoreload 2"
   ]
  },
  {
   "cell_type": "code",
   "execution_count": 2,
   "metadata": {},
   "outputs": [],
   "source": [
    "import matplotlib.pyplot as plt\n",
    "from json import loads\n",
    "import pandas as pd\n",
    "import numpy as np\n",
    "from scipy.optimize import curve_fit\n"
   ]
  },
  {
   "cell_type": "code",
   "execution_count": 3,
   "metadata": {},
   "outputs": [],
   "source": [
    "lines = []\n",
    "with open('results/results.txt', 'r') as f:\n",
    "    for line in f:\n",
    "        line = loads(line)\n",
    "        lines.append(line)"
   ]
  },
  {
   "cell_type": "code",
   "execution_count": 4,
   "metadata": {},
   "outputs": [],
   "source": [
    "points = [p for p in lines if isinstance(p, dict) and 'message' not in p]\n",
    "\n",
    "done_df = pd.DataFrame(points)"
   ]
  },
  {
   "cell_type": "code",
   "execution_count": null,
   "metadata": {},
   "outputs": [],
   "source": []
  },
  {
   "cell_type": "code",
   "execution_count": 5,
   "metadata": {},
   "outputs": [
    {
     "name": "stdout",
     "output_type": "stream",
     "text": [
      "0    14.0\n",
      "Name: train_flops, dtype: float64\n"
     ]
    },
    {
     "data": {
      "text/html": [
       "<div>\n",
       "<style scoped>\n",
       "    .dataframe tbody tr th:only-of-type {\n",
       "        vertical-align: middle;\n",
       "    }\n",
       "\n",
       "    .dataframe tbody tr th {\n",
       "        vertical-align: top;\n",
       "    }\n",
       "\n",
       "    .dataframe thead th {\n",
       "        text-align: right;\n",
       "    }\n",
       "</style>\n",
       "<table border=\"1\" class=\"dataframe\">\n",
       "  <thead>\n",
       "    <tr style=\"text-align: right;\">\n",
       "      <th></th>\n",
       "      <th>loss</th>\n",
       "      <th>total_flops_used</th>\n",
       "      <th>d_model</th>\n",
       "      <th>num_layers</th>\n",
       "      <th>num_heads</th>\n",
       "      <th>batch_size</th>\n",
       "      <th>learning_rate</th>\n",
       "      <th>train_flops</th>\n",
       "    </tr>\n",
       "  </thead>\n",
       "  <tbody>\n",
       "    <tr>\n",
       "      <th>0</th>\n",
       "      <td>10.237412</td>\n",
       "      <td>100000000000000</td>\n",
       "      <td>256</td>\n",
       "      <td>3</td>\n",
       "      <td>2</td>\n",
       "      <td>128</td>\n",
       "      <td>0.000464</td>\n",
       "      <td>100000000000000</td>\n",
       "    </tr>\n",
       "  </tbody>\n",
       "</table>\n",
       "</div>"
      ],
      "text/plain": [
       "        loss  total_flops_used  d_model  num_layers  num_heads  batch_size  \\\n",
       "0  10.237412   100000000000000      256           3          2         128   \n",
       "\n",
       "   learning_rate      train_flops  \n",
       "0       0.000464  100000000000000  "
      ]
     },
     "execution_count": 5,
     "metadata": {},
     "output_type": "execute_result"
    }
   ],
   "source": [
    "print(np.log10(done_df['train_flops']))\n",
    "done_df"
   ]
  },
  {
   "cell_type": "code",
   "execution_count": 14,
   "metadata": {},
   "outputs": [
    {
     "name": "stdout",
     "output_type": "stream",
     "text": [
      "    d_model  num_layers  n_parameters  num_heads  learning_rate\n",
      "1       256           2       1572864          2       0.000215\n",
      "9       256           3       2359296          2       0.000129\n",
      "0       256           4       3145728          2       0.000464\n",
      "3       384           2       3538944          3       0.000215\n",
      "6       256           5       3932160          2       0.000464\n",
      "..      ...         ...           ...        ...            ...\n",
      "20      640           9      44236800          5       0.000774\n",
      "3       512          15      47185920          4       0.000100\n",
      "4       640          10      49152000          5       0.000129\n",
      "6       768           7      49545216          6       0.001000\n",
      "10      896           5      48168960          7       0.000599\n",
      "\n",
      "[67 rows x 5 columns]\n"
     ]
    },
    {
     "data": {
      "text/html": [
       "<div>\n",
       "<style scoped>\n",
       "    .dataframe tbody tr th:only-of-type {\n",
       "        vertical-align: middle;\n",
       "    }\n",
       "\n",
       "    .dataframe tbody tr th {\n",
       "        vertical-align: top;\n",
       "    }\n",
       "\n",
       "    .dataframe thead th {\n",
       "        text-align: right;\n",
       "    }\n",
       "</style>\n",
       "<table border=\"1\" class=\"dataframe\">\n",
       "  <thead>\n",
       "    <tr style=\"text-align: right;\">\n",
       "      <th></th>\n",
       "      <th>d_model</th>\n",
       "      <th>num_layers</th>\n",
       "      <th>n_parameters</th>\n",
       "      <th>num_heads</th>\n",
       "      <th>learning_rate</th>\n",
       "      <th>batch_size</th>\n",
       "      <th>train_flops</th>\n",
       "    </tr>\n",
       "  </thead>\n",
       "  <tbody>\n",
       "    <tr>\n",
       "      <th>0</th>\n",
       "      <td>384</td>\n",
       "      <td>12</td>\n",
       "      <td>21233664</td>\n",
       "      <td>3</td>\n",
       "      <td>0.000100</td>\n",
       "      <td>128</td>\n",
       "      <td>300000000000000</td>\n",
       "    </tr>\n",
       "    <tr>\n",
       "      <th>9</th>\n",
       "      <td>768</td>\n",
       "      <td>3</td>\n",
       "      <td>21233664</td>\n",
       "      <td>6</td>\n",
       "      <td>0.000129</td>\n",
       "      <td>128</td>\n",
       "      <td>300000000000000</td>\n",
       "    </tr>\n",
       "    <tr>\n",
       "      <th>4</th>\n",
       "      <td>256</td>\n",
       "      <td>11</td>\n",
       "      <td>8650752</td>\n",
       "      <td>2</td>\n",
       "      <td>0.000167</td>\n",
       "      <td>128</td>\n",
       "      <td>300000000000000</td>\n",
       "    </tr>\n",
       "    <tr>\n",
       "      <th>6</th>\n",
       "      <td>256</td>\n",
       "      <td>5</td>\n",
       "      <td>3932160</td>\n",
       "      <td>2</td>\n",
       "      <td>0.000464</td>\n",
       "      <td>128</td>\n",
       "      <td>300000000000000</td>\n",
       "    </tr>\n",
       "    <tr>\n",
       "      <th>4</th>\n",
       "      <td>384</td>\n",
       "      <td>7</td>\n",
       "      <td>12386304</td>\n",
       "      <td>3</td>\n",
       "      <td>0.000464</td>\n",
       "      <td>128</td>\n",
       "      <td>300000000000000</td>\n",
       "    </tr>\n",
       "  </tbody>\n",
       "</table>\n",
       "</div>"
      ],
      "text/plain": [
       "   d_model  num_layers  n_parameters  num_heads  learning_rate  batch_size  \\\n",
       "0      384          12      21233664          3       0.000100         128   \n",
       "9      768           3      21233664          6       0.000129         128   \n",
       "4      256          11       8650752          2       0.000167         128   \n",
       "6      256           5       3932160          2       0.000464         128   \n",
       "4      384           7      12386304          3       0.000464         128   \n",
       "\n",
       "       train_flops  \n",
       "0  300000000000000  \n",
       "9  300000000000000  \n",
       "4  300000000000000  \n",
       "6  300000000000000  \n",
       "4  300000000000000  "
      ]
     },
     "execution_count": 14,
     "metadata": {},
     "output_type": "execute_result"
    }
   ],
   "source": [
    "from cs336_scaling.scaling import sample_to_do\n",
    "\n",
    "df = sample_to_do(5e3, 5e7)\n",
    "df['batch_size'] = 128\n",
    "df['train_flops'] = int(3e14)\n",
    "\n",
    "n_sample = 5\n",
    "if df.shape[0] > n_sample:\n",
    "    df = df.sample(n_sample)\n",
    "df"
   ]
  },
  {
   "cell_type": "code",
   "execution_count": 15,
   "metadata": {},
   "outputs": [
    {
     "name": "stdout",
     "output_type": "stream",
     "text": [
      "Going to get input\n",
      "{'loss': 10.350080607749273, 'total_flops_used': 950000000000000, 'd_model': 384, 'num_layers': 12, 'num_heads': 3, 'batch_size': 128, 'learning_rate': 0.0001, 'train_flops': 300000000000000}\n",
      "Going to get input\n",
      "{'loss': 10.438629722956657, 'total_flops_used': 1250000000000000, 'd_model': 768, 'num_layers': 3, 'num_heads': 6, 'batch_size': 128, 'learning_rate': 0.0001291549665014884, 'train_flops': 300000000000000}\n",
      "Going to get input\n",
      "{'loss': 10.2154182834335, 'total_flops_used': 1550000000000000, 'd_model': 256, 'num_layers': 11, 'num_heads': 2, 'batch_size': 128, 'learning_rate': 0.0001668100537200059, 'train_flops': 300000000000000}\n",
      "Going to get input\n",
      "{'loss': 9.377670824629524, 'total_flops_used': 1850000000000000, 'd_model': 256, 'num_layers': 5, 'num_heads': 2, 'batch_size': 128, 'learning_rate': 0.00046415888336127773, 'train_flops': 300000000000000}\n",
      "Going to get input\n",
      "{'loss': 9.972272065921148, 'total_flops_used': 2150000000000000, 'd_model': 384, 'num_layers': 7, 'num_heads': 3, 'batch_size': 128, 'learning_rate': 0.00046415888336127773, 'train_flops': 300000000000000}\n"
     ]
    }
   ],
   "source": [
    "from cs336_scaling.scaling import submit_with_config\n",
    "for d in df.to_dict(orient='records'):\n",
    "    d.pop('n_parameters')\n",
    "    print(submit_with_config(**d))"
   ]
  },
  {
   "cell_type": "code",
   "execution_count": null,
   "metadata": {},
   "outputs": [],
   "source": []
  }
 ],
 "metadata": {
  "kernelspec": {
   "display_name": "eda",
   "language": "python",
   "name": "python3"
  },
  "language_info": {
   "codemirror_mode": {
    "name": "ipython",
    "version": 3
   },
   "file_extension": ".py",
   "mimetype": "text/x-python",
   "name": "python",
   "nbconvert_exporter": "python",
   "pygments_lexer": "ipython3",
   "version": "3.11.9"
  }
 },
 "nbformat": 4,
 "nbformat_minor": 2
}
